{
  "nbformat": 4,
  "nbformat_minor": 0,
  "metadata": {
    "colab": {
      "provenance": []
    },
    "kernelspec": {
      "name": "python3",
      "display_name": "Python 3"
    },
    "language_info": {
      "name": "python"
    }
  },
  "cells": [
    {
      "cell_type": "markdown",
      "source": [
        "# Finanicial Data Anonymization"
      ],
      "metadata": {
        "id": "Z0ht-uJcCcRE"
      }
    },
    {
      "cell_type": "code",
      "source": [
        "!pip install anonypy\n",
        "!pip install python-dp\n",
        "!pip install flwr\n",
        "!pip install Pyfhel"
      ],
      "metadata": {
        "colab": {
          "base_uri": "https://localhost:8080/"
        },
        "id": "_1ShNew9yEId",
        "outputId": "c700f5ac-31e9-41f2-806b-79c73da2f060"
      },
      "execution_count": 1,
      "outputs": [
        {
          "output_type": "stream",
          "name": "stdout",
          "text": [
            "Looking in indexes: https://pypi.org/simple, https://us-python.pkg.dev/colab-wheels/public/simple/\n",
            "Collecting anonypy\n",
            "  Downloading anonypy-0.1.7-py3-none-any.whl (10 kB)\n",
            "Installing collected packages: anonypy\n",
            "Successfully installed anonypy-0.1.7\n",
            "Looking in indexes: https://pypi.org/simple, https://us-python.pkg.dev/colab-wheels/public/simple/\n",
            "Collecting python-dp\n",
            "  Downloading python_dp-1.1.1-cp39-cp39-manylinux1_x86_64.whl (3.5 MB)\n",
            "\u001b[2K     \u001b[90m━━━━━━━━━━━━━━━━━━━━━━━━━━━━━━━━━━━━━━━━\u001b[0m \u001b[32m3.5/3.5 MB\u001b[0m \u001b[31m13.8 MB/s\u001b[0m eta \u001b[36m0:00:00\u001b[0m\n",
            "\u001b[?25hInstalling collected packages: python-dp\n",
            "Successfully installed python-dp-1.1.1\n",
            "Looking in indexes: https://pypi.org/simple, https://us-python.pkg.dev/colab-wheels/public/simple/\n",
            "Collecting flwr\n",
            "  Downloading flwr-1.3.0-py3-none-any.whl (139 kB)\n",
            "\u001b[2K     \u001b[90m━━━━━━━━━━━━━━━━━━━━━━━━━━━━━━━━━━━━━━━\u001b[0m \u001b[32m139.3/139.3 kB\u001b[0m \u001b[31m2.1 MB/s\u001b[0m eta \u001b[36m0:00:00\u001b[0m\n",
            "\u001b[?25hRequirement already satisfied: numpy<2.0.0,>=1.21.0 in /usr/local/lib/python3.9/dist-packages (from flwr) (1.22.4)\n",
            "Requirement already satisfied: grpcio!=1.52.0,<2.0.0,>=1.43.0 in /usr/local/lib/python3.9/dist-packages (from flwr) (1.53.0)\n",
            "Collecting iterators<0.0.3,>=0.0.2\n",
            "  Downloading iterators-0.0.2-py3-none-any.whl (3.9 kB)\n",
            "Requirement already satisfied: protobuf<4.0.0,>=3.19.0 in /usr/local/lib/python3.9/dist-packages (from flwr) (3.20.3)\n",
            "Installing collected packages: iterators, flwr\n",
            "Successfully installed flwr-1.3.0 iterators-0.0.2\n",
            "Looking in indexes: https://pypi.org/simple, https://us-python.pkg.dev/colab-wheels/public/simple/\n",
            "Collecting Pyfhel\n",
            "  Downloading Pyfhel-3.4.1.tar.gz (1.0 MB)\n",
            "\u001b[2K     \u001b[90m━━━━━━━━━━━━━━━━━━━━━━━━━━━━━━━━━━━━━━━━\u001b[0m \u001b[32m1.0/1.0 MB\u001b[0m \u001b[31m8.3 MB/s\u001b[0m eta \u001b[36m0:00:00\u001b[0m\n",
            "\u001b[?25h  Installing build dependencies ... \u001b[?25l\u001b[?25hdone\n",
            "  Getting requirements to build wheel ... \u001b[?25l\u001b[?25hdone\n",
            "  Preparing metadata (pyproject.toml) ... \u001b[?25l\u001b[?25hdone\n",
            "Requirement already satisfied: numpy>=1.21 in /usr/local/lib/python3.9/dist-packages (from Pyfhel) (1.22.4)\n",
            "Building wheels for collected packages: Pyfhel\n",
            "  Building wheel for Pyfhel (pyproject.toml) ... \u001b[?25l\u001b[?25hdone\n",
            "  Created wheel for Pyfhel: filename=Pyfhel-3.4.1-cp39-cp39-linux_x86_64.whl size=8712407 sha256=4a7877147f9613f752028ed4077855d22ff340e8a8f13aab087a63dc42940b55\n",
            "  Stored in directory: /root/.cache/pip/wheels/7c/e8/b7/3e751f1e551015ab0f4a27950998a88c458574680d811142bc\n",
            "Successfully built Pyfhel\n",
            "Installing collected packages: Pyfhel\n",
            "Successfully installed Pyfhel-3.4.1\n"
          ]
        }
      ]
    },
    {
      "cell_type": "code",
      "source": [
        "!pip install opacus"
      ],
      "metadata": {
        "colab": {
          "base_uri": "https://localhost:8080/"
        },
        "id": "m7FT7oBg6pDz",
        "outputId": "2acccf46-1418-4685-feb4-88d2b9c07062"
      },
      "execution_count": 3,
      "outputs": [
        {
          "output_type": "stream",
          "name": "stdout",
          "text": [
            "Looking in indexes: https://pypi.org/simple, https://us-python.pkg.dev/colab-wheels/public/simple/\n",
            "Collecting opacus\n",
            "  Downloading opacus-1.4.0-py3-none-any.whl (224 kB)\n",
            "\u001b[2K     \u001b[90m━━━━━━━━━━━━━━━━━━━━━━━━━━━━━━━━━━━━━━━\u001b[0m \u001b[32m224.8/224.8 kB\u001b[0m \u001b[31m5.2 MB/s\u001b[0m eta \u001b[36m0:00:00\u001b[0m\n",
            "\u001b[?25hRequirement already satisfied: opt-einsum>=3.3.0 in /usr/local/lib/python3.9/dist-packages (from opacus) (3.3.0)\n",
            "Requirement already satisfied: scipy>=1.2 in /usr/local/lib/python3.9/dist-packages (from opacus) (1.10.1)\n",
            "Requirement already satisfied: numpy>=1.15 in /usr/local/lib/python3.9/dist-packages (from opacus) (1.22.4)\n",
            "Requirement already satisfied: torch>=1.13 in /usr/local/lib/python3.9/dist-packages (from opacus) (2.0.0+cu118)\n",
            "Requirement already satisfied: triton==2.0.0 in /usr/local/lib/python3.9/dist-packages (from torch>=1.13->opacus) (2.0.0)\n",
            "Requirement already satisfied: typing-extensions in /usr/local/lib/python3.9/dist-packages (from torch>=1.13->opacus) (4.5.0)\n",
            "Requirement already satisfied: networkx in /usr/local/lib/python3.9/dist-packages (from torch>=1.13->opacus) (3.1)\n",
            "Requirement already satisfied: sympy in /usr/local/lib/python3.9/dist-packages (from torch>=1.13->opacus) (1.11.1)\n",
            "Requirement already satisfied: filelock in /usr/local/lib/python3.9/dist-packages (from torch>=1.13->opacus) (3.11.0)\n",
            "Requirement already satisfied: jinja2 in /usr/local/lib/python3.9/dist-packages (from torch>=1.13->opacus) (3.1.2)\n",
            "Requirement already satisfied: lit in /usr/local/lib/python3.9/dist-packages (from triton==2.0.0->torch>=1.13->opacus) (16.0.1)\n",
            "Requirement already satisfied: cmake in /usr/local/lib/python3.9/dist-packages (from triton==2.0.0->torch>=1.13->opacus) (3.25.2)\n",
            "Requirement already satisfied: MarkupSafe>=2.0 in /usr/local/lib/python3.9/dist-packages (from jinja2->torch>=1.13->opacus) (2.1.2)\n",
            "Requirement already satisfied: mpmath>=0.19 in /usr/local/lib/python3.9/dist-packages (from sympy->torch>=1.13->opacus) (1.3.0)\n",
            "Installing collected packages: opacus\n",
            "Successfully installed opacus-1.4.0\n"
          ]
        }
      ]
    },
    {
      "cell_type": "code",
      "source": [
        "import pandas as pd\n",
        "import anonypy\n",
        "import opacus\n",
        "import flwr\n",
        "# import pyfhel\n",
        "import numpy as np"
      ],
      "metadata": {
        "id": "6nySE9KluhRw"
      },
      "execution_count": 4,
      "outputs": []
    },
    {
      "cell_type": "code",
      "source": [
        "def k_anonymize(df, feature_columns, sensitive_column):\n",
        "  p = anonypy.Preserver(df, feature_columns, sensitive_column)\n",
        "  rows = p.anonymize_k_anonymity(k=2)\n",
        "\n",
        "  dfn = pd.DataFrame(rows)\n",
        "  return dfn"
      ],
      "metadata": {
        "id": "7FFZBQ83BnUL"
      },
      "execution_count": null,
      "outputs": []
    },
    {
      "cell_type": "code",
      "source": [
        "def l_diversify(df, feature_column, sensitive_column):\n",
        "  return df_diverse"
      ],
      "metadata": {
        "id": "z6MyqpjvB9-B"
      },
      "execution_count": null,
      "outputs": []
    },
    {
      "cell_type": "code",
      "source": [
        "# Load the financial data from CSV\n",
        "df = pd.read_csv('financial_data.csv')\n",
        "feature_columns = ['Age', 'Income', 'Expenses', 'Balance']\n",
        "sensitive_column = 'Account Number'\n",
        "\n",
        "# Perform K-anonymity on the data\n",
        "# df_anon = anonypy.anonymize(df, {'Age': 3, 'Income': 2})\n",
        "dfn = k_anonymize(df, feature_columns, sensitive_column)\n",
        "\n",
        "# Perform L-diversity on the data\n",
        "df_diverse = l_diversify(df, feature_columns, sensitive_column)"
      ],
      "metadata": {
        "id": "tr1qOeD54qCI"
      },
      "execution_count": null,
      "outputs": []
    },
    {
      "cell_type": "markdown",
      "source": [
        "## Differential Privacy"
      ],
      "metadata": {
        "id": "Og6SLHreCUt2"
      }
    },
    {
      "cell_type": "code",
      "source": [
        "# Perform differential privacy on the data\n",
        "epsilon = 1.0\n",
        "delta = 1e-5\n",
        "bounds = [(df_diverse['Age'].min(), df_diverse['Age'].max()),\n",
        "          (df_diverse['Income'].min(), df_diverse['Income'].max()),\n",
        "          (df_diverse['Expenses'].min(), df_diverse['Expenses'].max()),\n",
        "          (df_diverse['Balance'].min(), df_diverse['Balance'].max())]\n",
        "\n",
        "privacy_engine = opacus.PrivacyEngine(epsilon=epsilon, delta=delta)\n",
        "privacy_engine.attach(optimizer)"
      ],
      "metadata": {
        "id": "y-uxXigaCU14"
      },
      "execution_count": null,
      "outputs": []
    },
    {
      "cell_type": "code",
      "source": [
        "# Define the client model\n",
        "class FinancialClient(fl.client.NumPyClient):\n",
        "    def __init__(self, X, y):\n",
        "        self.X = X\n",
        "        self.y = y\n",
        "\n",
        "    def get_parameters(self):\n",
        "        return client_model.get_weights()\n",
        "\n",
        "    def set_parameters(self, parameters):\n",
        "        client_model.set_weights(parameters)\n",
        "\n",
        "    def fit(self, parameters, config):\n",
        "        client_model.set_weights(parameters)\n",
        "\n",
        "        # Train the client model with differential privacy\n",
        "        privacy_engine.attach(client_optimizer)\n",
        "\n",
        "        # Train the model\n",
        "        client_model.compile(optimizer=client_optimizer, loss=client_loss)\n",
        "        client_model.fit(self.X, self.y, epochs=10, batch_size=32, verbose=0)\n",
        "\n",
        "        # Return the trained weights\n",
        "        return client_model.get_weights(), len(self.X), {}\n",
        "\n",
        "# Define the FLWR server\n",
        "class FinancialServer(fl.server.Server):\n",
        "    def __init__(self):\n",
        "        super().__init__()\n",
        "        self.server_model = server_model\n",
        "        self.server_optimizer = server_optimizer\n",
        "        self.server_loss = server_loss\n",
        "\n",
        "    def evaluate(self, parameters):\n",
        "        self.server_model.set_weights(parameters)\n",
        "        loss = self.server_model.evaluate(self.X, self.y)\n",
        "        return loss, len(self.X)"
      ],
      "metadata": {
        "id": "GaTs3H4J6gnR"
      },
      "execution_count": null,
      "outputs": []
    },
    {
      "cell_type": "code",
      "source": [
        "# Start the FLWR server\n",
        "fl.server.start_server('[::]:8080', config={\"num_rounds\": 10})\n",
        "\n",
        "# Connect to the FLWR server\n",
        "fl.client.start_numpy_client(\"[::]:8080\", client=FinancialClient(X, y))\n",
        "\n",
        "# Decrypt the model coefficients\n",
        "model_weights = client_model.get_weights()\n",
        "model_weights_decrypted = [decrypt(ctxt) for ctxt in model_weights]\n",
        "\n",
        "# Save the model coefficients to a file\n",
        "with open('model_weights.txt', 'w') as f:\n",
        "    for weight in model_weights_decrypted:\n",
        "        f.write(str(weight) + '\\n')"
      ],
      "metadata": {
        "id": "ZaRkcBGI6dua"
      },
      "execution_count": null,
      "outputs": []
    },
    {
      "cell_type": "markdown",
      "source": [
        "## Display the Model Statistics"
      ],
      "metadata": {
        "id": "JTw4ruDUCvRc"
      }
    },
    {
      "cell_type": "code",
      "source": [
        "import matplotlib.pyplot as plt\n",
        "\n",
        "# Display statistics results\n",
        "print('K-anonymity:')\n",
        "print(data[quasi_identifiers].value_counts())\n",
        "print()\n",
        "\n",
        "print('L-diversity:')\n",
        "print(data.groupby(quasi_identifiers)[sensitive_column].nunique())\n",
        "print()\n",
        "\n",
        "print('Differential privacy:')\n",
        "print('Mean income:', data['Income'].mean())\n",
        "print('Mean expenses:', data['Expenses'].mean())\n",
        "print()\n",
        "\n",
        "# Display model coefficients graph\n",
        "model_coef = client.fit([public_key.serialize()], {})\n",
        "plt.bar(range(len(model_coef)), model_coef)\n",
        "plt.xlabel('Coefficient')\n",
        "plt.ylabel('Value')\n",
        "plt.title('Model coefficients')\n",
        "plt.show()"
      ],
      "metadata": {
        "id": "rTgYW5RgCzAF"
      },
      "execution_count": null,
      "outputs": []
    }
  ]
}